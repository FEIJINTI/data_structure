{
 "cells": [
  {
   "cell_type": "code",
   "execution_count": null,
   "metadata": {
    "collapsed": true
   },
   "outputs": [],
   "source": [
    "# 算法 A 时间复杂度：常数阶\n",
    "def algorithm_A(n: int) -> None:\n",
    "    print(0)\n",
    "# 算法 B 时间复杂度：线性阶\n",
    "def algorithm_B(n: int) -> None:\n",
    "    for _ in range(n):\n",
    "        print(0)\n",
    "# 算法 C 时间复杂度：常数阶\n",
    "def algorithm_C(n: int) -> None:\n",
    "    for _ in range(1000000):\n",
    "        print(0)"
   ]
  }
 ],
 "metadata": {
  "kernelspec": {
   "display_name": "Python 3",
   "language": "python",
   "name": "python3"
  },
  "language_info": {
   "codemirror_mode": {
    "name": "ipython",
    "version": 2
   },
   "file_extension": ".py",
   "mimetype": "text/x-python",
   "name": "python",
   "nbconvert_exporter": "python",
   "pygments_lexer": "ipython2",
   "version": "2.7.6"
  }
 },
 "nbformat": 4,
 "nbformat_minor": 0
}
